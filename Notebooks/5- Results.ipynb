{
 "cells": [
  {
   "attachments": {},
   "cell_type": "markdown",
   "metadata": {},
   "source": [
    "### Entraînement\n",
    "\n",
    "#### Partie 4 - Création de l'architecture U-NET et entraînement du model\n"
   ]
  },
  {
   "cell_type": "code",
   "execution_count": 1,
   "metadata": {},
   "outputs": [
    {
     "data": {
      "text/markdown": [
       "<br>**Projet M1 - Détection d'anomalies sur imagerie médicale - U-NET experiments**"
      ],
      "text/plain": [
       "<IPython.core.display.Markdown object>"
      ]
     },
     "metadata": {},
     "output_type": "display_data"
    },
    {
     "name": "stdout",
     "output_type": "stream",
     "text": [
      "Version              : 2\n",
      "Notebook id          : U-NET experiments\n",
      "Run time             : Monday 13 February 2023, 02:27:16\n",
      "Hostname             : ludovic-ubu (Linux)\n",
      "Tensorflow log level : Error only  (=2)\n",
      "Datasets dir         : /media/ludovic/Cache/ENID/\n",
      "Run dir              : ./run\n",
      "Update keras cache   : False\n",
      "tensorflow           : 2.8.0\n",
      "tensorflow.keras     : 2.8.0\n",
      "numpy                : 1.21.5\n",
      "skimage              : 0.19.2\n",
      "matplotlib           : 3.5.1\n",
      "pandas               : 1.3.5\n"
     ]
    }
   ],
   "source": [
    "%matplotlib inline\n",
    "\n",
    "import random\n",
    "import numpy as np\n",
    "import os\n",
    "import sys\n",
    "from IPython.display import display\n",
    "import tensorflow as tf\n",
    "import datetime\n",
    "from keras import callbacks\n",
    "tf.debugging.set_log_device_placement(False)\n",
    "tf.get_logger().setLevel('WARNING')\n",
    "tf.autograph.set_verbosity(1)\n",
    "\n",
    "sys.path.append('..')\n",
    "import Modules.utils as utils\n",
    "import Modules.init as init\n",
    "import Modules.display as disp\n",
    "import Modules.generator as gen\n",
    "import Modules.model as model\n",
    "\n",
    "os.environ['TF_CPP_MIN_LOG_LEVEL'] = '2'\n",
    "\n",
    "datasets_dir = init.init('U-NET experiments')"
   ]
  }
 ],
 "metadata": {
  "kernelspec": {
   "display_name": "base",
   "language": "python",
   "name": "python3"
  },
  "language_info": {
   "codemirror_mode": {
    "name": "ipython",
    "version": 3
   },
   "file_extension": ".py",
   "mimetype": "text/x-python",
   "name": "python",
   "nbconvert_exporter": "python",
   "pygments_lexer": "ipython3",
   "version": "3.7.4"
  },
  "orig_nbformat": 4,
  "vscode": {
   "interpreter": {
    "hash": "b6ca67135e7c0bd86858f2589a46579e62439356507fe560aa94f9e6dda9695e"
   }
  }
 },
 "nbformat": 4,
 "nbformat_minor": 2
}
